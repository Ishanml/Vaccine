{
  "nbformat": 4,
  "nbformat_minor": 0,
  "metadata": {
    "colab": {
      "provenance": [],
      "authorship_tag": "ABX9TyOv1IMFy9bimpK3Jv1N95Sz",
      "include_colab_link": true
    },
    "kernelspec": {
      "name": "python3",
      "display_name": "Python 3"
    },
    "language_info": {
      "name": "python"
    }
  },
  "cells": [
    {
      "cell_type": "markdown",
      "metadata": {
        "id": "view-in-github",
        "colab_type": "text"
      },
      "source": [
        "<a href=\"https://colab.research.google.com/github/Ishanml/Vaccine/blob/main/Vaccine(IITG).ipynb\" target=\"_parent\"><img src=\"https://colab.research.google.com/assets/colab-badge.svg\" alt=\"Open In Colab\"/></a>"
      ]
    },
    {
      "cell_type": "markdown",
      "source": [
        "## Data Preprocessing, Model Training and Validation"
      ],
      "metadata": {
        "id": "TafJOVlyuCfW"
      }
    },
    {
      "cell_type": "code",
      "source": [
        "import pandas as pd\n",
        "import numpy as np\n",
        "from sklearn.ensemble import RandomForestClassifier\n",
        "from sklearn.multioutput import MultiOutputClassifier\n",
        "from sklearn.model_selection import train_test_split\n",
        "from sklearn.preprocessing import OneHotEncoder, StandardScaler\n",
        "from sklearn.compose import ColumnTransformer\n",
        "from sklearn.pipeline import Pipeline\n",
        "from sklearn.impute import SimpleImputer\n",
        "from sklearn.metrics import roc_auc_score\n",
        "\n",
        "# Load the dataset\n",
        "data = pd.read_csv('training_set_features.csv')\n",
        "Labels = pd.read_csv('training_set_labels.csv')\n",
        "data = pd.concat([data,Labels])\n",
        "\n",
        "# Handle missing values\n",
        "imputer = SimpleImputer(strategy='most_frequent')\n",
        "data_imputed = pd.DataFrame(imputer.fit_transform(data), columns=data.columns)\n",
        "\n",
        "# Encode categorical features\n",
        "categorical_features = ['age_group', 'education', 'race', 'sex', 'income_poverty',\n",
        "                        'marital_status', 'rent_or_own', 'employment_status',\n",
        "                        'hhs_geo_region', 'census_msa', 'employment_industry', 'employment_occupation']\n",
        "numeric_features = data.columns.difference(categorical_features + ['respondent_id', 'xyz_vaccine', 'seasonal_vaccine'])\n",
        "\n",
        "preprocessor = ColumnTransformer(\n",
        "    transformers=[\n",
        "        ('num', StandardScaler(), numeric_features),\n",
        "        ('cat', OneHotEncoder(handle_unknown='ignore'), categorical_features)])\n",
        "\n",
        "# Apply preprocessing\n",
        "X = data_imputed.drop(['respondent_id', 'xyz_vaccine', 'seasonal_vaccine'], axis=1)\n",
        "y = data_imputed[['xyz_vaccine', 'seasonal_vaccine']]\n",
        "\n",
        "# Convert target columns to integer type\n",
        "y = y.astype(int)\n",
        "\n",
        "# Preprocess features\n",
        "X_preprocessed = preprocessor.fit_transform(X)\n",
        "\n",
        "# Split the data\n",
        "X_train, X_valid, y_train, y_valid = train_test_split(X_preprocessed, y, test_size=0.2, random_state=42, stratify=y)\n",
        "\n",
        "# Define the model\n",
        "model = MultiOutputClassifier(RandomForestClassifier(n_estimators=100, random_state=42))\n",
        "\n",
        "# Train the model\n",
        "model.fit(X_train, y_train)\n",
        "\n",
        "# Evaluate the model\n",
        "y_pred_proba = model.predict_proba(X_valid)\n",
        "y_pred_proba = np.array([pred[:, 1] for pred in y_pred_proba]).T\n",
        "\n",
        "# Calculate ROC AUC for each target\n",
        "roc_auc_xyz = roc_auc_score(y_valid['xyz_vaccine'], y_pred_proba[:, 0])\n",
        "roc_auc_seasonal = roc_auc_score(y_valid['seasonal_vaccine'], y_pred_proba[:, 1])\n",
        "\n",
        "# Mean ROC AUC\n",
        "mean_roc_auc = np.mean([roc_auc_xyz, roc_auc_seasonal])\n",
        "print(f'Mean ROC AUC: {mean_roc_auc}')\n"
      ],
      "metadata": {
        "colab": {
          "base_uri": "https://localhost:8080/"
        },
        "id": "ejYn_POkuL5r",
        "outputId": "e13dc3e3-203b-4f05-8c44-616c57ae5859"
      },
      "execution_count": 7,
      "outputs": [
        {
          "output_type": "stream",
          "name": "stdout",
          "text": [
            "Mean ROC AUC: 0.8055804042706749\n"
          ]
        }
      ]
    },
    {
      "cell_type": "markdown",
      "source": [
        "## Prediction and submission"
      ],
      "metadata": {
        "id": "FnJTWa6YwYUT"
      }
    },
    {
      "cell_type": "code",
      "source": [
        "# Predict on the test set\n",
        "test_data = pd.read_csv('test_set_features.csv')\n",
        "\n",
        "# Add missing target columns to the test data (filled with NaN)\n",
        "test_data['xyz_vaccine'] = np.nan\n",
        "test_data['seasonal_vaccine'] = np.nan\n",
        "\n",
        "test_data_imputed = pd.DataFrame(imputer.transform(test_data), columns=test_data.columns)\n",
        "\n",
        "# Now drop the target columns before further processing\n",
        "X_test = test_data_imputed.drop(['respondent_id', 'xyz_vaccine', 'seasonal_vaccine'], axis=1)\n",
        "X_test_preprocessed = preprocessor.transform(X_test)\n",
        "\n",
        "# Make predictions\n",
        "test_pred_proba = model.predict_proba(X_test_preprocessed)\n",
        "test_pred_proba = np.array([pred[:, 1] for pred in test_pred_proba]).T\n",
        "\n",
        "# Prepare submission file\n",
        "submission = pd.DataFrame({\n",
        "    'respondent_id': test_data['respondent_id'],\n",
        "    'xyz_vaccine': test_pred_proba[:, 0],\n",
        "    'seasonal_vaccine': test_pred_proba[:, 1]\n",
        "})\n",
        "\n",
        "submission.to_csv('submission.csv', index=False)"
      ],
      "metadata": {
        "id": "KfZfgfKEvwRg"
      },
      "execution_count": 9,
      "outputs": []
    },
    {
      "cell_type": "code",
      "source": [],
      "metadata": {
        "id": "9PFypl3twMyu"
      },
      "execution_count": null,
      "outputs": []
    }
  ]
}